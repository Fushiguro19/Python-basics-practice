{
  "nbformat": 4,
  "nbformat_minor": 0,
  "metadata": {
    "colab": {
      "name": "Some imp python functions.ipynb",
      "provenance": [],
      "authorship_tag": "ABX9TyPEImWLi0k6aKy4+lzNOuon",
      "include_colab_link": true
    },
    "kernelspec": {
      "name": "python3",
      "display_name": "Python 3"
    },
    "language_info": {
      "name": "python"
    }
  },
  "cells": [
    {
      "cell_type": "markdown",
      "metadata": {
        "id": "view-in-github",
        "colab_type": "text"
      },
      "source": [
        "<a href=\"https://colab.research.google.com/github/Fushiguro19/Python-basics-practice/blob/Python-colab/Python%20learning%20colab/Some_imp_python_functions.ipynb\" target=\"_parent\"><img src=\"https://colab.research.google.com/assets/colab-badge.svg\" alt=\"Open In Colab\"/></a>"
      ]
    },
    {
      "cell_type": "code",
      "metadata": {
        "colab": {
          "base_uri": "https://localhost:8080/"
        },
        "id": "q3qsIaSiFzC7",
        "outputId": "42946ca8-c67d-4a1a-83ab-56147a7b8ba8"
      },
      "source": [
        "# Some basic Functions  : \n",
        "\n",
        "# all() : takes in any iterable as an input\n",
        "\n",
        "#list\n",
        "l = [1,2,3]\n",
        "print(all(l)) #taking the list l as an input. Checks if all elements r true in l.\n",
        "\n",
        "li = [0,0,False]\n",
        "print(all(li)) #Since all elements r not true, all(li) returns False\n",
        "\n",
        "# tuples\n",
        "t = (1,2,3)\n",
        "print(all(t))\n",
        "\n",
        "t = (True,0,0)\n",
        "print(all(t))\n",
        "\n",
        "#similarly for sets\n",
        "#dict\n",
        "\n",
        "d = {1 : 'a' , 0 : 'b'}\n",
        "print(all(d))  # all() considers the keys to determine True or False. Since one of the keys is 0 here, the returned value is False."
      ],
      "execution_count": null,
      "outputs": [
        {
          "output_type": "stream",
          "name": "stdout",
          "text": [
            "True\n",
            "False\n",
            "True\n",
            "False\n",
            "False\n"
          ]
        }
      ]
    },
    {
      "cell_type": "code",
      "metadata": {
        "colab": {
          "base_uri": "https://localhost:8080/"
        },
        "id": "0rXyuIcAIlyh",
        "outputId": "dc566dfb-fc1b-4d42-8a80-42896d5bd0e9"
      },
      "source": [
        "# next function enumerate()\n",
        "\n",
        "l = [1,2,3,4]\n",
        "for a,i in enumerate(l, start = 5) :   ## start changes the numbering of elements only at output not in the og iterable.\n",
        "  print(a,i)\n",
        "\n",
        "print(list(enumerate(l)))  ## returns the list of tuples with a pair of index and its element"
      ],
      "execution_count": null,
      "outputs": [
        {
          "output_type": "stream",
          "name": "stdout",
          "text": [
            "5 1\n",
            "6 2\n",
            "7 3\n",
            "8 4\n",
            "[(0, 1), (1, 2), (2, 3), (3, 4)]\n"
          ]
        }
      ]
    },
    {
      "cell_type": "code",
      "metadata": {
        "colab": {
          "base_uri": "https://localhost:8080/"
        },
        "id": "j_YbrNRwNNqe",
        "outputId": "11728bee-3234-4888-ca90-0a2ccc28c983"
      },
      "source": [
        "## lambda function\n",
        "\n",
        "# syntax ===  lambda argument(s) : expression\n",
        "\n",
        "print((lambda x : x*2) (12))   ##lambda takes in x as argument and performs x*2, the value of x mentioned is 12\n",
        "\n",
        "#lambda with multiple arguments\n",
        "\n",
        "(lambda x,y : x+y)(3,4)\n",
        "\n",
        "\n"
      ],
      "execution_count": null,
      "outputs": [
        {
          "output_type": "stream",
          "name": "stdout",
          "text": [
            "24\n"
          ]
        },
        {
          "output_type": "execute_result",
          "data": {
            "text/plain": [
              "7"
            ]
          },
          "metadata": {},
          "execution_count": 3
        }
      ]
    },
    {
      "cell_type": "code",
      "metadata": {
        "colab": {
          "base_uri": "https://localhost:8080/"
        },
        "id": "dF2l1yI0KvC-",
        "outputId": "dffc81be-d2dd-4fd5-e2c3-0865dd94d5f1"
      },
      "source": [
        "## next comes filter()\n",
        "\n",
        "## filters the elements of a list on the basis of a condition\n",
        "\n",
        "a = [1,2,3,4]\n",
        "b = filter(lambda x : x%2 == 0, a) \n",
        "print(list(b))"
      ],
      "execution_count": null,
      "outputs": [
        {
          "output_type": "stream",
          "name": "stdout",
          "text": [
            "[2, 4]\n"
          ]
        }
      ]
    },
    {
      "cell_type": "code",
      "metadata": {
        "colab": {
          "base_uri": "https://localhost:8080/"
        },
        "id": "jW25kS7pRa6F",
        "outputId": "ce6b8efe-1d0f-4f85-f477-90bec6749823"
      },
      "source": [
        "## Map() \n",
        "\n",
        "##applies a condition on the elements of a list\n",
        "\n",
        "z = [1,2,3,4]\n",
        "print(list(map(lambda x : x*2, z)))\n",
        "# the elements of z are multiplied by 2\n"
      ],
      "execution_count": null,
      "outputs": [
        {
          "output_type": "stream",
          "name": "stdout",
          "text": [
            "[2, 4, 6, 8]\n"
          ]
        }
      ]
    },
    {
      "cell_type": "code",
      "metadata": {
        "colab": {
          "base_uri": "https://localhost:8080/"
        },
        "id": "oJDaXdopR0bO",
        "outputId": "282e67bd-3f91-4094-da3c-e1952f116096"
      },
      "source": [
        "##reduce()\n",
        "\n",
        "## applies a condition on the first 2 elements of an iterable and generates a partial result. That result and third element are then the next 2 elements.\n",
        "## for ex : in a list [1,2,3], 1+2 gives 3 which is then added to 3 giving 6 and so on ........\n",
        "from functools import reduce\n",
        "\n",
        "z = [1,2,3]\n",
        "print(reduce(lambda x,y : x*y,z))"
      ],
      "execution_count": null,
      "outputs": [
        {
          "output_type": "stream",
          "name": "stdout",
          "text": [
            "6\n"
          ]
        }
      ]
    },
    {
      "cell_type": "code",
      "metadata": {
        "colab": {
          "base_uri": "https://localhost:8080/"
        },
        "id": "G0D46OND8swz",
        "outputId": "c61b23e6-a59c-4759-8f63-d8be97c4479c"
      },
      "source": [
        "# zip()\n",
        "\n",
        "#input : iterables or containers\n",
        "#output : A single iterator object with mapped values from input iterables\n",
        "\n",
        "a = [1,2,3]\n",
        "b = ['a','b','c']\n",
        "c = zip(a,b)\n",
        "for a in c : \n",
        "  print (a)\n",
        "\n",
        "# first values of both lists mapped together, then second values and so on......"
      ],
      "execution_count": null,
      "outputs": [
        {
          "output_type": "stream",
          "name": "stdout",
          "text": [
            "(1, 'a')\n",
            "(2, 'b')\n",
            "(3, 'c')\n"
          ]
        }
      ]
    },
    {
      "cell_type": "code",
      "metadata": {
        "id": "y50xeoVUb0eB"
      },
      "source": [
        "# example of matrix multiplication using zip and unpacking argument list\n",
        "\n",
        "X = [[12,7,3],\n",
        "    [4 ,5,6],\n",
        "    [7 ,8,9]]\n",
        "\n",
        "# 3x4 matrix\n",
        "Y = [[5,8,1,2],\n",
        "    [6,7,3,0],\n",
        "    [4,5,9,1]]\n",
        "\n",
        "# result is 3x4\n",
        "result = [[sum(a*b for a,b in zip(X_row,Y_col)) for Y_col in zip(*Y)] for X_row in X]\n",
        "\n",
        "for r in result:\n",
        "   print(r)"
      ],
      "execution_count": null,
      "outputs": []
    },
    {
      "cell_type": "code",
      "metadata": {
        "colab": {
          "base_uri": "https://localhost:8080/"
        },
        "id": "NBSgXoKy37pR",
        "outputId": "deec30c2-7fe1-404d-fb12-7fef24a07179"
      },
      "source": [
        "## NamedTuple() : Is a factory function (function that creates objects) for creating tuple subclasses with named fields\n",
        "\n",
        "from collections import namedtuple\n",
        "\n",
        "ProblemSet = namedtuple(\"ProblemSet\",[\"num_questions\", \"difficulty\", \"topic\"])    \n",
        "##creating a namedtuple named \"ProblemSet\" mentioned inside brackets\n",
        "\n",
        "problem_set1 = ProblemSet(5,\"Easy\",\"Graphs\")    \n",
        "##creating an object problem_set1 baseds on namedtuple ProblemSet\n",
        "\n",
        "problem_set2 = ProblemSet(6,\"difficult\", \"Strings\")  ## second object\n",
        "\n",
        "print(problem_set1.difficulty) \n",
        "## printing difficulty level of object problem_set1\n",
        "print(problem_set2.topic)\n",
        "\n",
        "print(problem_set1._fields)  \n",
        "## to know the underlying fields for which this object returns values.\n",
        "\n",
        "problem_set1 = problem_set1._replace(difficulty = \"Medium\")  \n",
        "##replacing the old value with a new one\n",
        "print(problem_set1.difficulty)\n",
        "\n",
        "\n",
        "list1 = ['3','Easy','Arrays']\n",
        "problem_set3 = ProblemSet._make(list1)\n",
        "\"\"\" Converting a list (or any iterable) into namedtuple \n",
        "\"\"\"\n",
        "print(problem_set3)\n",
        "print(problem_set3.topic)\n",
        "\n",
        "\n",
        "\"\"\" Converting a dict into namedtuple \n",
        "\"\"\"\n",
        "\n",
        "dict1 = {'num_questions' : '4', 'difficulty' : 'Easy', 'topic' : 'Graphs'}\n",
        "problem_set4 = ProblemSet(**dict1)\n",
        "print(problem_set4)\n",
        "print(problem_set4.topic)\n",
        "\n",
        "\"\"\" via an error we got to know that the keys of dict should be same as the namedtuple fields\"\"\"\n",
        "\n",
        "## Was throwing error \"NamedTuple not found\" : Reason = Its namedtuple and not NamedTuple while importing from collections"
      ],
      "execution_count": 13,
      "outputs": [
        {
          "output_type": "stream",
          "name": "stdout",
          "text": [
            "Easy\n",
            "Strings\n",
            "('num_questions', 'difficulty', 'topic')\n",
            "Medium\n",
            "ProblemSet(num_questions='3', difficulty='Easy', topic='Arrays')\n",
            "Arrays\n",
            "ProblemSet(num_questions='4', difficulty='Easy', topic='Graphs')\n",
            "Graphs\n"
          ]
        }
      ]
    }
  ]
}