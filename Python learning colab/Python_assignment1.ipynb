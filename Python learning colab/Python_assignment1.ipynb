{
  "nbformat": 4,
  "nbformat_minor": 0,
  "metadata": {
    "colab": {
      "name": "Python assignment1.ipynb",
      "provenance": [],
      "authorship_tag": "ABX9TyPdmXt+kc8leWqWOTOwmmj5",
      "include_colab_link": true
    },
    "kernelspec": {
      "display_name": "Python 3",
      "name": "python3"
    },
    "language_info": {
      "name": "python"
    }
  },
  "cells": [
    {
      "cell_type": "markdown",
      "metadata": {
        "id": "view-in-github",
        "colab_type": "text"
      },
      "source": [
        "<a href=\"https://colab.research.google.com/github/Fushiguro19/Python-basics-practice/blob/Python-colab/Python%20learning%20colab/Python_assignment1.ipynb\" target=\"_parent\"><img src=\"https://colab.research.google.com/assets/colab-badge.svg\" alt=\"Open In Colab\"/></a>"
      ]
    },
    {
      "cell_type": "markdown",
      "metadata": {
        "id": "2LQU1OcUcwno"
      },
      "source": [
        "1) Write a function that inputs a number and prints the multiplication table of that number"
      ]
    },
    {
      "cell_type": "code",
      "metadata": {
        "colab": {
          "base_uri": "https://localhost:8080/"
        },
        "id": "dNfC3HPR_Pls",
        "outputId": "916dd7fe-19a0-4440-d490-bd5e007cdf26"
      },
      "source": [
        "def table(x,y) :\n",
        "    i = 0\n",
        "    while i<=y:\n",
        "        a = x*i\n",
        "        print(f\"\\n{x} * {i} = {a}.\")\n",
        "        i = i+1\n",
        "    return(\"\\nEND\")\n",
        "    \n",
        "\n",
        "a = int(input(\"enter a number : \"))\n",
        "b = int(input(\"\\nenter the number upto which multiplication table is needed : \"))\n",
        "\n",
        "\n",
        "print (F\"\\nMultiplication Table of {a} : .\") \n",
        "\n",
        "print(table(a,b))"
      ],
      "execution_count": null,
      "outputs": [
        {
          "output_type": "stream",
          "text": [
            "enter a number : 5\n",
            "\n",
            "enter the number upto which multiplication table is needed : 10\n",
            "\n",
            "Multiplication Table of 5 : .\n",
            "\n",
            "5 * 0 = 0.\n",
            "\n",
            "5 * 1 = 5.\n",
            "\n",
            "5 * 2 = 10.\n",
            "\n",
            "5 * 3 = 15.\n",
            "\n",
            "5 * 4 = 20.\n",
            "\n",
            "5 * 5 = 25.\n",
            "\n",
            "5 * 6 = 30.\n",
            "\n",
            "5 * 7 = 35.\n",
            "\n",
            "5 * 8 = 40.\n",
            "\n",
            "5 * 9 = 45.\n",
            "\n",
            "5 * 10 = 50.\n",
            "\n",
            "END\n"
          ],
          "name": "stdout"
        }
      ]
    },
    {
      "cell_type": "markdown",
      "metadata": {
        "id": "yjhEm7cNdrtO"
      },
      "source": [
        "2) Write a program to print twin primes less than 1000. If two consecutive odd numbers are\n",
        "both prime then they are known as twin primes"
      ]
    },
    {
      "cell_type": "code",
      "metadata": {
        "colab": {
          "base_uri": "https://localhost:8080/"
        },
        "id": "fj_wpnkgdyC4",
        "outputId": "e64156b3-9a9a-40e7-a1db-112feec452c9"
      },
      "source": [
        "#list of prime numbers upto 1000\n",
        "\n",
        "prime = []\n",
        "\n",
        "for n in range (1,1000) :\n",
        "    for i in range (2, ((n//2)+1)) :\n",
        "        if (n%i == 0) :\n",
        "            break\n",
        "        \n",
        "    else : \n",
        "        if n!= 1 :\n",
        "            prime.append(n)\n",
        "\n",
        "\n",
        "#picking out twin primes from the list\n",
        "\n",
        "twins = [(prime[i],prime[i+1]) for i in range (0,(len(prime)-1)) if (prime[i+1]-prime[i] == 2)]\n",
        "    \n",
        "print (twins)\n"
      ],
      "execution_count": null,
      "outputs": [
        {
          "output_type": "stream",
          "text": [
            "[(3, 5), (5, 7), (11, 13), (17, 19), (29, 31), (41, 43), (59, 61), (71, 73), (101, 103), (107, 109), (137, 139), (149, 151), (179, 181), (191, 193), (197, 199), (227, 229), (239, 241), (269, 271), (281, 283), (311, 313), (347, 349), (419, 421), (431, 433), (461, 463), (521, 523), (569, 571), (599, 601), (617, 619), (641, 643), (659, 661), (809, 811), (821, 823), (827, 829), (857, 859), (881, 883)]\n"
          ],
          "name": "stdout"
        }
      ]
    },
    {
      "cell_type": "markdown",
      "metadata": {
        "id": "yiNXXPUKhpM_"
      },
      "source": [
        "3) Write a program to find out the prime factors of a number. Example: prime factors of 56 -\n",
        "2, 2, 2, 7"
      ]
    },
    {
      "cell_type": "code",
      "metadata": {
        "colab": {
          "base_uri": "https://localhost:8080/"
        },
        "id": "65OIBneBhsx-",
        "outputId": "ae537ed7-d4f2-48c7-98b5-021e2e311975"
      },
      "source": [
        "n = int(input(\"enter the number =\"))\n",
        "\n",
        "#empty list for all the prime factors\n",
        "pf = []\n",
        "\n",
        "pf.append(1)\n",
        "#ruling out all possibilities of prime factor 2\n",
        "while (n%2 == 0) :\n",
        "    pf.append(2)\n",
        "    n = n//2\n",
        "\n",
        "    \n",
        "#all prime factors less than sqrt of n\n",
        "for i in range (3, int(n**(1/2))+1, 2) :\n",
        "    while (n%i == 0) :\n",
        "        pf.append(i)\n",
        "        n = n//i\n",
        "\n",
        "#to include the possibility of a prime factor greater than sqrt of n coz there is only 1(if any)\n",
        "if n > 2 :\n",
        "    pf.append(n)\n",
        "    \n",
        "\n",
        "print (pf)\n",
        "    "
      ],
      "execution_count": null,
      "outputs": [
        {
          "output_type": "stream",
          "text": [
            "enter the number =1035\n",
            "[1, 3, 3, 5, 23]\n"
          ],
          "name": "stdout"
        }
      ]
    },
    {
      "cell_type": "markdown",
      "metadata": {
        "id": "GsTGMlvxkPPX"
      },
      "source": [
        "4) Write a program to implement these formulae of permutations and combinations.\n",
        "Number of permutations of n objects taken r at a time: p(n, r) = n! / (n-r)!. Number of\n",
        "combinations of n objects taken r at a time is: c(n, r) = n! / (r!*(n-r)!) = p(n,r) / r!"
      ]
    },
    {
      "cell_type": "code",
      "metadata": {
        "id": "nb4GPc8ukTXu",
        "colab": {
          "base_uri": "https://localhost:8080/"
        },
        "outputId": "9ea48554-03d1-46df-b6b9-2400ef0fb3c4"
      },
      "source": [
        "n = int(input(\"enter the number of objects,n =\"))\n",
        "r = int(input(\"no of objects taken at a time,r =\"))\n",
        "p = 1\n",
        "\n",
        "for i in range ((n-r+1),(n+1)) :\n",
        "    p = p*i\n",
        "print(f\"Permutations of {n} objects taken {r} at a time P({n},{r}) = {p} \")\n",
        "\n",
        "q = 1\n",
        "for i in range (1,(r+1)) :\n",
        "    q = q*i\n",
        "\n",
        "c = p//q\n",
        "print(f\"Combinations of {n} objects taken {r} at a time C({n},{r}) = {c} \")"
      ],
      "execution_count": null,
      "outputs": [
        {
          "output_type": "stream",
          "text": [
            "enter the number of objects,n =5\n",
            "no of objects taken at a time,r =3\n",
            "Permutations of 5 objects taken 3 at a time P(5,3) = 60 \n",
            "Combinations of 5 objects taken 3 at a time C(5,3) = 10 \n"
          ],
          "name": "stdout"
        }
      ]
    },
    {
      "cell_type": "markdown",
      "metadata": {
        "id": "lTIQiBmPlH0O"
      },
      "source": [
        "5) Write a function that converts a decimal number to binary number"
      ]
    },
    {
      "cell_type": "code",
      "metadata": {
        "id": "wDD8r2njmQv_",
        "colab": {
          "base_uri": "https://localhost:8080/"
        },
        "outputId": "f7f140c3-f3de-4853-c11b-87c8e59b8d8e"
      },
      "source": [
        "n = int(input(\"enter the number,n =\"))\n",
        "num = n\n",
        "d = []\n",
        "\n",
        "while (n>0) :\n",
        "    p = (n%2)\n",
        "    n = n//2\n",
        "    d.append(p)\n",
        "\n",
        "d.reverse()\n",
        "    \n",
        "print (f\"the binary equivalent of {num} = \")\n",
        "\n",
        "for j in d :\n",
        "    print (j, end = \" \")"
      ],
      "execution_count": null,
      "outputs": [
        {
          "output_type": "stream",
          "text": [
            "enter the number,n =17\n",
            "the binary equivalent of 17 = \n",
            "1 0 0 0 1 "
          ],
          "name": "stdout"
        }
      ]
    },
    {
      "cell_type": "code",
      "metadata": {
        "id": "PbSZVf1B3mJ5",
        "colab": {
          "base_uri": "https://localhost:8080/"
        },
        "outputId": "035103e3-f5c9-4828-fcca-ef5a2596622c"
      },
      "source": [
        "def binary(n) :\n",
        "    if n >0 :\n",
        "        binary(n//2)\n",
        "        print(n%2, end = \"\")\n",
        "         \n",
        "       \n",
        "x = int(input(\"enter the number = \"))\n",
        "binary(x)\n",
        "\n",
        "##learnt from the below link\n",
        "##https://www.programiz.com/python-programming/examples/decimal-binary-recursion"
      ],
      "execution_count": null,
      "outputs": [
        {
          "output_type": "stream",
          "text": [
            "enter the number = 10\n",
            "1010"
          ],
          "name": "stdout"
        }
      ]
    },
    {
      "cell_type": "markdown",
      "metadata": {
        "id": "RK6o0dCn4oSn"
      },
      "source": [
        "6) Write a function cubesum() that accepts an integer and returns the sum of the cubes of\n",
        "individual digits of that number. Use this function to make functions PrintArmstrong() and\n",
        "isArmstrong() to print Armstrong numbers and to find whether is an Armstrong number."
      ]
    },
    {
      "cell_type": "code",
      "metadata": {
        "id": "qsdojNN74tUK",
        "colab": {
          "base_uri": "https://localhost:8080/"
        },
        "outputId": "054e5525-c71c-4a2d-812c-8366414f6e81"
      },
      "source": [
        "\n",
        "def cubesum(n) :\n",
        "    ##https://www.programiz.com/python-programming/examples/armstrong-number\n",
        "    s = 0\n",
        "    while n > 0 :\n",
        "        s = s + ((n%10)**3)\n",
        "        n = n//10\n",
        "    return(s)\n",
        "\n",
        "def isArmstrong(x) :\n",
        "\n",
        "    if x == cubesum(x):\n",
        "        return(\"This is an Armstrong Number\")\n",
        "    else :\n",
        "        return(\"Not an Armstrong number\")\n",
        "\n",
        "def PrintArmstrong(a):\n",
        "    q = []\n",
        "    for i in range(a):\n",
        "        if i == cubesum(i):\n",
        "\n",
        "            q.append(i)\n",
        "    return(q)\n",
        "    \n",
        "a = int(input(\"enter a number : \"))\n",
        "print(\"The sum of the cube of its digits is : \",cubesum(a))\n",
        "print(isArmstrong(a))\n",
        "print(\"Armstrong numbers upto \", a, \"are : \", PrintArmstrong(a))\n",
        "\n",
        "## Having a DOUBT in this problem"
      ],
      "execution_count": null,
      "outputs": [
        {
          "output_type": "stream",
          "text": [
            "enter a number : 220\n",
            "The sum of the cube of its digits is :  16\n",
            "Not an Armstrong number\n",
            "Armstrong numbers upto  220 are :  [0, 1, 153]\n"
          ],
          "name": "stdout"
        }
      ]
    },
    {
      "cell_type": "markdown",
      "metadata": {
        "id": "qwq65UtZNeCm"
      },
      "source": [
        "7) Write a function prodDigits() that inputs a number and returns the product of digits of that\n",
        "number."
      ]
    },
    {
      "cell_type": "code",
      "metadata": {
        "id": "qPUyO9mKNhs-",
        "colab": {
          "base_uri": "https://localhost:8080/"
        },
        "outputId": "2358e2d4-5b41-4ab0-8b78-aa0fc8f75443"
      },
      "source": [
        "####https://stackoverflow.com/questions/21270320/turn-a-single-number-into-single-digits-python\n",
        "\n",
        "def prodDigits(x) :\n",
        "    \n",
        "    p = [int(a) for a in str(x)]\n",
        "    m = 1\n",
        "    for i in p :\n",
        "        m = m*i\n",
        "    return(m)\n",
        "\n",
        "n = int(input(\"enter a number\"))\n",
        "\n",
        "print(\"Product of the digits of \", n, \" is : \", prodDigits(n))"
      ],
      "execution_count": null,
      "outputs": [
        {
          "output_type": "stream",
          "text": [
            "enter a number89\n",
            "Product of the digits of  89  is :  72\n"
          ],
          "name": "stdout"
        }
      ]
    },
    {
      "cell_type": "markdown",
      "metadata": {
        "id": "eGs61iDIQq9E"
      },
      "source": [
        "8) If all digits of a number n are multiplied by each other repeating with the product, the one\n",
        "digit number obtained at last is called the multiplicative digital root of n. The number of\n",
        "times digits need to be multiplied to reach one digit is called the multiplicative\n",
        "persistance of n.\n",
        "Example: 86 -> 48 -> 32 -> 6 (MDR 6, MPersistence 3)\n",
        "341 -> 12->2 (MDR 2, MPersistence 2)\n",
        "Using the function prodDigits() of previous exercise write functions MDR() and\n",
        "MPersistence() that input a number and return its multiplicative digital root and\n",
        "multiplicative persistence respectively"
      ]
    },
    {
      "cell_type": "code",
      "metadata": {
        "colab": {
          "base_uri": "https://localhost:8080/"
        },
        "id": "Fg63UljPQvMy",
        "outputId": "93bd9077-0579-43dd-b529-5e5a884bb0ef"
      },
      "source": [
        "def prodDigits(x) :\n",
        "    \n",
        "    p = [int(a) for a in str(x)]\n",
        "    m = 1\n",
        "    for i in p :\n",
        "        m = m*i\n",
        "    return(m)\n",
        "\n",
        "def MDR(n) :\n",
        "    \n",
        "    def Mper(n):\n",
        "        if len(str(n)) == 1 :\n",
        "            print(n)\n",
        "        else :\n",
        "            s = 0\n",
        "            while len(str(n))>1 :\n",
        "                n = prodDigits(n)\n",
        "                s += 1\n",
        "            print(n, s)\n",
        "    Mper(n)\n",
        "    \n",
        "    \n",
        "        \n",
        "t = int(input(\"enter a number : \"))     \n",
        "print(\"The MDR, Mpersistence are : \")\n",
        "MDR(t)\n",
        "\n",
        "##https://www.geeksforgeeks.org/python-inner-functions/"
      ],
      "execution_count": null,
      "outputs": [
        {
          "output_type": "stream",
          "text": [
            "enter a number : 189\n",
            "The MDR, Mpersistence are : \n",
            "4 3\n"
          ],
          "name": "stdout"
        }
      ]
    },
    {
      "cell_type": "markdown",
      "metadata": {
        "id": "4oFfoX3FsEwF"
      },
      "source": [
        "9) Write a function sumPdivisors() that finds the sum of proper divisors of a number. Proper\n",
        "divisors of a number are those numbers by which the number is divisible, except the\n",
        "number itself. For example proper divisors of 36 are 1, 2, 3, 4, 6, 9, 18"
      ]
    },
    {
      "cell_type": "code",
      "metadata": {
        "colab": {
          "base_uri": "https://localhost:8080/"
        },
        "id": "2YCW7-9usHPW",
        "outputId": "16580c91-9608-4c8f-932e-7d14a5dea53c"
      },
      "source": [
        "def sumPdivisors(n) :\n",
        "    s = 0\n",
        "    for i in range(1,n):\n",
        "        if (n%i) == 0 :\n",
        "            s += i\n",
        "    return(s)\n",
        "\n",
        "t = int(input(\"enter a number : \"))\n",
        "print(\"Sum of proper divisors is = \",sumPdivisors(t))\n",
        "            "
      ],
      "execution_count": null,
      "outputs": [
        {
          "output_type": "stream",
          "text": [
            "enter a number : 22\n",
            "Sum of proper divisors is =  14\n"
          ],
          "name": "stdout"
        }
      ]
    },
    {
      "cell_type": "markdown",
      "metadata": {
        "id": "2nVSpTLL0Cfj"
      },
      "source": [
        "10) A number is called perfect if the sum of proper divisors of that number is equal to the\n",
        "number. For example 28 is perfect number, since 1+2+4+7+14=28. Write a program to\n",
        "print all the perfect numbers in a given range"
      ]
    },
    {
      "cell_type": "code",
      "metadata": {
        "id": "GGmVdf7G0C0L",
        "colab": {
          "base_uri": "https://localhost:8080/"
        },
        "outputId": "7ee7e4f1-a4ae-48c9-be3b-a273ff213434"
      },
      "source": [
        "def sumPdivisors(n) :\n",
        "    s = 0\n",
        "    for i in range(1,n):\n",
        "        if (n%i) == 0 :\n",
        "            s += i\n",
        "    return(s)\n",
        "\n",
        "def perfect(p) :\n",
        "    q = []\n",
        "    for i in range(0,p) :\n",
        "        if i == sumPdivisors(i) :\n",
        "            q.append(i)\n",
        "    return(q)\n",
        "        \n",
        "\n",
        "t = int(input(\"enter a number : \"))\n",
        "print(\"Perfect numbers from 0 to \", t, \" are : \")\n",
        "perfect(t)\n",
        "            "
      ],
      "execution_count": null,
      "outputs": [
        {
          "output_type": "stream",
          "text": [
            "enter a number : 220\n",
            "Perfect numbers from 0 to  220  are : \n"
          ],
          "name": "stdout"
        },
        {
          "output_type": "execute_result",
          "data": {
            "text/plain": [
              "[0, 6, 28]"
            ]
          },
          "metadata": {
            "tags": []
          },
          "execution_count": 13
        }
      ]
    },
    {
      "cell_type": "markdown",
      "metadata": {
        "id": "dl4lgWgJ0YRP"
      },
      "source": [
        "11) Two different numbers are called amicable numbers if the sum of the proper divisors of\n",
        "each is equal to the other number. For example 220 and 284 are amicable numbers.\n",
        "Sum of proper divisors of 220 = 1+2+4+5+10+11+20+22+44+55+110 = 284\n",
        "Sum of proper divisors of 284 = 1+2+4+71+142 = 220\n",
        "Write a function to print pairs of amicable numbers in a range\n"
      ]
    },
    {
      "cell_type": "code",
      "metadata": {
        "id": "dTFiHQk70cnr",
        "colab": {
          "base_uri": "https://localhost:8080/"
        },
        "outputId": "bc2c618a-1961-4be2-b837-37d4db29b72a"
      },
      "source": [
        "def sumPdivisors(n) :\n",
        "    s = 0\n",
        "    for i in range(1,n):\n",
        "        if (n%i) == 0 :\n",
        "            s += i\n",
        "    return(s)\n",
        "\n",
        "\n",
        "def ami(n):\n",
        "  for i in range(0,(n+1)) :\n",
        "    for j in range((i+1), (n+1)):\n",
        "      if ((j == sumPdivisors(i)) and (i == sumPdivisors(j))) :\n",
        "        print(i,j)\n",
        "    \n",
        "\n",
        "t = int(input(\"enter a number\"))\n",
        "ami(t)\n",
        "        \n",
        "##https://www.geeksforgeeks.org/pairs-amicable-numbers/"
      ],
      "execution_count": null,
      "outputs": [
        {
          "output_type": "stream",
          "text": [
            "enter a number1000\n",
            "220 284\n"
          ],
          "name": "stdout"
        }
      ]
    },
    {
      "cell_type": "markdown",
      "metadata": {
        "id": "eUNh148y-cQ7"
      },
      "source": [
        "12) Write a program which can filter odd numbers in a list by using filter function"
      ]
    },
    {
      "cell_type": "code",
      "metadata": {
        "id": "CKJoLhz5-kNA",
        "colab": {
          "base_uri": "https://localhost:8080/"
        },
        "outputId": "439780e9-3819-4cca-b0c3-5496e84c771e"
      },
      "source": [
        "x = int(input(\"enter a number : \"))\n",
        "q = [i for i in range(0,(x+1))]\n",
        "odd_nos = filter(lambda i : (i%2 != 0),q )\n",
        "print(\"Odd numbers till \", x , \" are : \", list(odd_nos))\n",
        "\n",
        "\n",
        "##https://www.pythontutorial.net/python-basics/python-filter-list/"
      ],
      "execution_count": null,
      "outputs": [
        {
          "output_type": "stream",
          "text": [
            "enter a number : 20\n",
            "Odd numbers till  20  are :  [1, 3, 5, 7, 9, 11, 13, 15, 17, 19]\n"
          ],
          "name": "stdout"
        }
      ]
    },
    {
      "cell_type": "markdown",
      "metadata": {
        "id": "bQyGDG1vCTbY"
      },
      "source": [
        "13) Write a program which can map() to make a list whose elements are cube of elements in\n",
        "a given list"
      ]
    },
    {
      "cell_type": "code",
      "metadata": {
        "id": "-aXWBEgyCafv",
        "colab": {
          "base_uri": "https://localhost:8080/"
        },
        "outputId": "0c0ec9a1-8c5d-4a7c-dec0-1f41fd025feb"
      },
      "source": [
        "x = int(input(\"enter a number : \"))\n",
        "q = [i for i in range(0,(x+1))]\n",
        "cubes = map(lambda i : (i**3),q )\n",
        "print(\"Cubes of numbers till \", x , \" are : \", list(cubes))\n",
        "\n",
        "##https://www.geeksforgeeks.org/python-map-function/"
      ],
      "execution_count": null,
      "outputs": [
        {
          "output_type": "stream",
          "text": [
            "enter a number : 10\n",
            "Cubes of numbers till  10  are :  [0, 1, 8, 27, 64, 125, 216, 343, 512, 729, 1000]\n"
          ],
          "name": "stdout"
        }
      ]
    },
    {
      "cell_type": "markdown",
      "metadata": {
        "id": "h3XCVXyqDNzZ"
      },
      "source": [
        "14) Write a program which can map() and filter() to make a list whose elements are cube of\n",
        "even number in a given list"
      ]
    },
    {
      "cell_type": "code",
      "metadata": {
        "id": "5XIIh_QkDQoo",
        "colab": {
          "base_uri": "https://localhost:8080/"
        },
        "outputId": "1a89a22b-f21f-4d7c-9327-e5dbfecf1334"
      },
      "source": [
        "x = int(input(\"enter a number : \"))\n",
        "q = [i for i in range(0,(x+1))]\n",
        "FM = map(lambda n : n**3, (filter(lambda n : (n%2 == 0),q)))\n",
        "print(list(FM))"
      ],
      "execution_count": null,
      "outputs": [
        {
          "output_type": "stream",
          "text": [
            "enter a number : 20\n",
            "[0, 8, 64, 216, 512, 1000, 1728, 2744, 4096, 5832, 8000]\n"
          ],
          "name": "stdout"
        }
      ]
    }
  ]
}