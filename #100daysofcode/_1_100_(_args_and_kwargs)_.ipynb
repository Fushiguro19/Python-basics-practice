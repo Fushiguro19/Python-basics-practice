{
  "nbformat": 4,
  "nbformat_minor": 0,
  "metadata": {
    "colab": {
      "name": "#1/100 (*args and **kwargs) .ipynb",
      "provenance": [],
      "authorship_tag": "ABX9TyNJwWODx80rEFprqEk0f1ka",
      "include_colab_link": true
    },
    "kernelspec": {
      "name": "python3",
      "display_name": "Python 3"
    },
    "language_info": {
      "name": "python"
    }
  },
  "cells": [
    {
      "cell_type": "markdown",
      "metadata": {
        "id": "view-in-github",
        "colab_type": "text"
      },
      "source": [
        "<a href=\"https://colab.research.google.com/github/Fushiguro19/Python-basics-practice/blob/main/%23100daysofcode/_1_100_(_args_and_kwargs)_.ipynb\" target=\"_parent\"><img src=\"https://colab.research.google.com/assets/colab-badge.svg\" alt=\"Open In Colab\"/></a>"
      ]
    },
    {
      "cell_type": "code",
      "metadata": {
        "colab": {
          "base_uri": "https://localhost:8080/"
        },
        "id": "HcfWoiVO0PjE",
        "outputId": "75d65f45-3031-4be1-ef7a-314e5643d514"
      },
      "source": [
        "## all about unpacking and packing arguments in python (aka *args and **kwargs)\n",
        "\n",
        "a,*_ = [1,2,3,4]\n",
        "print(_)\n",
        "print(a)\n",
        "\n",
        "a , b = {'a' : 1, 'b' : 2}\n",
        "print(a,b)"
      ],
      "execution_count": null,
      "outputs": [
        {
          "output_type": "stream",
          "name": "stdout",
          "text": [
            "[2, 3, 4]\n",
            "1\n",
            "a b\n"
          ]
        }
      ]
    },
    {
      "cell_type": "code",
      "metadata": {
        "colab": {
          "base_uri": "https://localhost:8080/"
        },
        "id": "N-n9s4bmQWAF",
        "outputId": "0fac3935-6474-4c3f-bf42-5072268cab32"
      },
      "source": [
        "a = (1,2,3)\n",
        "*b, = (1,2,3)  \n",
        "\n",
        "\"\"\" * before b tells that it can take any no of elements and comma after b tells that it is a tuple ready to take any no of elements \"\"\"\n",
        "\n",
        "*c, = [1,2,3]\n",
        "print(b)\n",
        "print(type(b))\n",
        "print(type(c))"
      ],
      "execution_count": null,
      "outputs": [
        {
          "output_type": "stream",
          "name": "stdout",
          "text": [
            "[1, 2, 3]\n",
            "<class 'list'>\n",
            "<class 'list'>\n"
          ]
        }
      ]
    },
    {
      "cell_type": "code",
      "metadata": {
        "colab": {
          "base_uri": "https://localhost:8080/"
        },
        "id": "2ahxr5E1LY4T",
        "outputId": "f05be5da-abdf-45f5-e808-d3d8edcb6c58"
      },
      "source": [
        "def show(*a) : \n",
        "  print(a)\n",
        "\n",
        "l = [1,2,3]\n",
        "show(l)   ## the whole list is passed as a single element and stored in tuple \"a\"\n",
        "\n",
        "show (*l)   ## each element of list is stored individually in tuple \"a\""
      ],
      "execution_count": null,
      "outputs": [
        {
          "output_type": "stream",
          "name": "stdout",
          "text": [
            "([1, 2, 3],)\n",
            "(1, 2, 3)\n"
          ]
        }
      ]
    },
    {
      "cell_type": "code",
      "metadata": {
        "colab": {
          "base_uri": "https://localhost:8080/",
          "height": 397
        },
        "id": "CTyXVj2caWcc",
        "outputId": "c2fbeab1-b591-4853-b6d1-47a7b79c8ce9"
      },
      "source": [
        "#Sum of 2 numbers using *args\n",
        "\n",
        "def sum(*a) : \n",
        "  s = 0\n",
        "  print(type(a))  ##This lines tells us that the elements passed as arguments will be packed in a tuple and assigned to \"a\"\n",
        "  for i in a:     ## Accesses each element from tuple \"a\"\n",
        "    s += i\n",
        "  return(s)\n",
        "\n",
        "print(sum(1,3,4,6,7))  # 5 elements passed as arguments will be combined in a tuple and assigned to \"a\"\n",
        "\n",
        "l = [1,2,3,4]\n",
        "print(sum(*l))   ## Each element of list \"l\" is unpacked/accessed and passed as an individual argument . All the elements are then assigned to \"a\"\n",
        "print(sum(l))    ## Throws an error since \"l\" is passed as a list rather than individual elements. "
      ],
      "execution_count": null,
      "outputs": [
        {
          "output_type": "stream",
          "name": "stdout",
          "text": [
            "<class 'tuple'>\n",
            "21\n",
            "<class 'tuple'>\n",
            "10\n",
            "<class 'tuple'>\n"
          ]
        },
        {
          "output_type": "error",
          "ename": "TypeError",
          "evalue": "ignored",
          "traceback": [
            "\u001b[0;31m---------------------------------------------------------------------------\u001b[0m",
            "\u001b[0;31mTypeError\u001b[0m                                 Traceback (most recent call last)",
            "\u001b[0;32m<ipython-input-5-43552839abf0>\u001b[0m in \u001b[0;36m<module>\u001b[0;34m()\u001b[0m\n\u001b[1;32m     12\u001b[0m \u001b[0ml\u001b[0m \u001b[0;34m=\u001b[0m \u001b[0;34m[\u001b[0m\u001b[0;36m1\u001b[0m\u001b[0;34m,\u001b[0m\u001b[0;36m2\u001b[0m\u001b[0;34m,\u001b[0m\u001b[0;36m3\u001b[0m\u001b[0;34m,\u001b[0m\u001b[0;36m4\u001b[0m\u001b[0;34m]\u001b[0m\u001b[0;34m\u001b[0m\u001b[0;34m\u001b[0m\u001b[0m\n\u001b[1;32m     13\u001b[0m \u001b[0mprint\u001b[0m\u001b[0;34m(\u001b[0m\u001b[0msum\u001b[0m\u001b[0;34m(\u001b[0m\u001b[0;34m*\u001b[0m\u001b[0ml\u001b[0m\u001b[0;34m)\u001b[0m\u001b[0;34m)\u001b[0m\u001b[0;34m\u001b[0m\u001b[0;34m\u001b[0m\u001b[0m\n\u001b[0;32m---> 14\u001b[0;31m \u001b[0mprint\u001b[0m\u001b[0;34m(\u001b[0m\u001b[0msum\u001b[0m\u001b[0;34m(\u001b[0m\u001b[0ml\u001b[0m\u001b[0;34m)\u001b[0m\u001b[0;34m)\u001b[0m\u001b[0;34m\u001b[0m\u001b[0;34m\u001b[0m\u001b[0m\n\u001b[0m",
            "\u001b[0;32m<ipython-input-5-43552839abf0>\u001b[0m in \u001b[0;36msum\u001b[0;34m(*a)\u001b[0m\n\u001b[1;32m      5\u001b[0m   \u001b[0mprint\u001b[0m\u001b[0;34m(\u001b[0m\u001b[0mtype\u001b[0m\u001b[0;34m(\u001b[0m\u001b[0ma\u001b[0m\u001b[0;34m)\u001b[0m\u001b[0;34m)\u001b[0m\u001b[0;34m\u001b[0m\u001b[0;34m\u001b[0m\u001b[0m\n\u001b[1;32m      6\u001b[0m   \u001b[0;32mfor\u001b[0m \u001b[0mi\u001b[0m \u001b[0;32min\u001b[0m \u001b[0ma\u001b[0m\u001b[0;34m:\u001b[0m\u001b[0;34m\u001b[0m\u001b[0;34m\u001b[0m\u001b[0m\n\u001b[0;32m----> 7\u001b[0;31m     \u001b[0ms\u001b[0m \u001b[0;34m+=\u001b[0m \u001b[0mi\u001b[0m\u001b[0;34m\u001b[0m\u001b[0;34m\u001b[0m\u001b[0m\n\u001b[0m\u001b[1;32m      8\u001b[0m   \u001b[0;32mreturn\u001b[0m\u001b[0;34m(\u001b[0m\u001b[0ms\u001b[0m\u001b[0;34m)\u001b[0m\u001b[0;34m\u001b[0m\u001b[0;34m\u001b[0m\u001b[0m\n\u001b[1;32m      9\u001b[0m \u001b[0;34m\u001b[0m\u001b[0m\n",
            "\u001b[0;31mTypeError\u001b[0m: unsupported operand type(s) for +=: 'int' and 'list'"
          ]
        }
      ]
    },
    {
      "cell_type": "code",
      "metadata": {
        "colab": {
          "base_uri": "https://localhost:8080/"
        },
        "id": "LvubC3hScCaN",
        "outputId": "3442a334-9289-439c-a0b7-a3a2e4dc0179"
      },
      "source": [
        "# positional vs keyword argument\n",
        "\n",
        "def sum (a, b = 2) :\n",
        "  return(a+b)\n",
        "\n",
        "print(sum(3))  \n",
        "\"\"\" positional argument (here \"a\") requires a value to be passed \n",
        "whereas keyword argument like \"b\" doesn't necessarily need a value, it can use it's default value(here 2) \"\"\"\n",
        "\n",
        "sum(3, 4) ## here we have passed a value for b as well. \n",
        "## For keyword arguments, passed value >>>>>>> default value (if a value is passed)"
      ],
      "execution_count": null,
      "outputs": [
        {
          "output_type": "execute_result",
          "data": {
            "text/plain": [
              "7"
            ]
          },
          "metadata": {},
          "execution_count": 9
        }
      ]
    },
    {
      "cell_type": "code",
      "metadata": {
        "colab": {
          "base_uri": "https://localhost:8080/"
        },
        "id": "nro75gnsddr0",
        "outputId": "b778bbd7-64fe-4b78-a5ab-b4720a6ca4a1"
      },
      "source": [
        "def sum(a,b, *c) : \n",
        "  s = a+b\n",
        "  for i in c :\n",
        "    s *= i\n",
        "  return(s)\n",
        "\n",
        "sum(1,2,3,4,2)\n"
      ],
      "execution_count": null,
      "outputs": [
        {
          "output_type": "execute_result",
          "data": {
            "text/plain": [
              "72"
            ]
          },
          "metadata": {},
          "execution_count": 1
        }
      ]
    },
    {
      "cell_type": "code",
      "metadata": {
        "colab": {
          "base_uri": "https://localhost:8080/"
        },
        "id": "o1o1uTP5JtIc",
        "outputId": "5aef7696-e372-4ccb-c9a3-ff1aa109895a"
      },
      "source": [
        "## **kwargs or packing unpacking with keyword arguments\n",
        "## **kwargs works for mapping \n",
        "\n",
        "def show(**kwargs) : \n",
        "  print(kwargs)\n",
        "\n",
        "d = {'name' : 'sonakshi', 'class' : '10'}\n",
        "show(**d)\n",
        "show (name = 'sonakshi', std  = 10)"
      ],
      "execution_count": null,
      "outputs": [
        {
          "output_type": "stream",
          "name": "stdout",
          "text": [
            "{'name': 'sonakshi', 'class': '10'}\n",
            "{'name': 'sonakshi', 'std': 10}\n"
          ]
        }
      ]
    },
    {
      "cell_type": "code",
      "metadata": {
        "colab": {
          "base_uri": "https://localhost:8080/"
        },
        "id": "n7NMHQlJMeNZ",
        "outputId": "c90bcf0c-326c-443a-f4f7-6586c028e9c8"
      },
      "source": [
        "## Merging dictionaries with **kwargs\n",
        "\n",
        "\n",
        "d = {'n' : 'sonakshi', 'std' : '10'}\n",
        "x = {'car' : 'honda' , 'place' : 'california'}\n",
        "z = {**d,**x}\n",
        "\n",
        "##Merging sequences with *args\n",
        "s = [1,2,3]\n",
        "t = (4,5,6)\n",
        "u = (*s,*t, 7 ,8)\n",
        "\n",
        "print(u)\n",
        "\n",
        "print(z)"
      ],
      "execution_count": 3,
      "outputs": [
        {
          "output_type": "stream",
          "name": "stdout",
          "text": [
            "(1, 2, 3, 4, 5, 6, 7, 8)\n",
            "{'n': 'sonakshi', 'std': '10', 'car': 'honda', 'place': 'california'}\n"
          ]
        }
      ]
    },
    {
      "cell_type": "code",
      "metadata": {
        "id": "VA0JBmwhqjQc"
      },
      "source": [
        ""
      ],
      "execution_count": null,
      "outputs": []
    }
  ]
}